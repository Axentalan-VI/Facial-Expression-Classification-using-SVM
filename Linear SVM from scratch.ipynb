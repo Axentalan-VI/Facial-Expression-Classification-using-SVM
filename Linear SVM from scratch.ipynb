{
 "cells": [
  {
   "cell_type": "code",
   "execution_count": 11,
   "metadata": {},
   "outputs": [],
   "source": [
    "import random\n",
    "import matplotlib.pyplot as plt\n",
    "import seaborn as sns\n",
    "import cv2\n",
    "import numpy as np\n",
    "import os\n",
    "from skimage.feature import hog\n",
    "from imutils import paths\n",
    "from sklearn.svm import SVC\n",
    "from sklearn.model_selection import train_test_split\n",
    "from sklearn.metrics import confusion_matrix\n",
    "from sklearn.metrics import classification_report\n",
    "from sklearn.metrics import accuracy_score\n"
   ]
  },
  {
   "cell_type": "code",
   "execution_count": 26,
   "metadata": {},
   "outputs": [
    {
     "name": "stdout",
     "output_type": "stream",
     "text": [
      "[INFO] The number of features ...3600\n",
      "[INFO] The number of samples ...3021\n"
     ]
    }
   ],
   "source": [
    "images = list(paths.list_images('happy and sad'))\n",
    "\n",
    "\n",
    "def gray(x):\n",
    "    image = cv2.imread(x)\n",
    "    grayimage = cv2.cvtColor(image, cv2.COLOR_BGR2GRAY)\n",
    "    return grayimage\n",
    "\n",
    "\n",
    "def imageSize(x, size):\n",
    "    return cv2.resize(x, (size, size))\n",
    "\n",
    "\n",
    "def feature_extract(images):\n",
    "    features = []\n",
    "    labels = []\n",
    "\n",
    "    for image in images:\n",
    "        x = gray(image)\n",
    "        x = imageSize(x, 64)\n",
    "        hogfunc = hog(x, orientations=9, pixels_per_cell=(8, 8), cells_per_block=(\n",
    "            4, 4), block_norm='L2-Hys', transform_sqrt=False)\n",
    "\n",
    "        label = image.split(os.path.sep)[-2]\n",
    "        labels.append(label)\n",
    "        features.append(hogfunc)\n",
    "\n",
    "    features = np.array(features)\n",
    "    labels = np.array(labels)\n",
    "    return features, labels\n",
    "\n",
    "\n",
    "features, labels = feature_extract(images)\n",
    "\n",
    "print(\"[INFO] The number of features ...\" + str(features.shape[1]))\n",
    "print(\"[INFO] The number of samples ...\" + str(labels.shape[0]))\n",
    "\n"
   ]
  },
  {
   "cell_type": "code",
   "execution_count": 27,
   "metadata": {},
   "outputs": [
    {
     "name": "stdout",
     "output_type": "stream",
     "text": [
      "[INFO] The number of images used in training ...2416\n",
      "[INFO] The number of images used in testing ...605\n"
     ]
    }
   ],
   "source": [
    "\n",
    "\n",
    "\n",
    "r = random.randint(0, 90)\n",
    "y = np.where(labels == \"happy\",-1,1)\n",
    "\n",
    "X_train, X_test, y_train, y_test = train_test_split(features, y, test_size=0.2,random_state=r)\n",
    "print(\"[INFO] The number of images used in training ...\" + str(X_train.shape[0]))\n",
    "print(\"[INFO] The number of images used in testing ...\" + str(X_test.shape[0]))\n",
    "\n"
   ]
  },
  {
   "cell_type": "code",
   "execution_count": 28,
   "metadata": {},
   "outputs": [],
   "source": [
    "class SVM: \n",
    "    def __init__(self, learning_rate=0.0001, epochs=1000, lambda_paramater=0.01):\n",
    "        self.weight = None\n",
    "        self.bias = None\n",
    "        self.learning_rate = learning_rate\n",
    "        self.epochs = epochs\n",
    "        self.lambda_paramater = lambda_paramater\n",
    "        \n",
    "        \n",
    "    def fit(self,X_train,y_train):\n",
    "        featuers= X_train.shape[1]\n",
    "        y = np.where(y_train <= 0,-1,1)\n",
    "        self.weight = np.zeros(featuers)\n",
    "        self.bias=0\n",
    "\n",
    "        for epoch in range(self.epochs):\n",
    "            for i, x in enumerate(X_train):\n",
    "                #y* wx + b \n",
    "                classfier = y[i]*(np.dot(x , self.weight)-self.bias) >= 1\n",
    "                if classfier :\n",
    "                    #Hinge loss \n",
    "                    self.weight -= self.learning_rate * \\\n",
    "                        (2 * self.lambda_paramater * self.weight)\n",
    "                else:\n",
    "                    self.weight -= self.learning_rate * \\\n",
    "                        (2 * self.lambda_paramater * self.weight - np.dot(x, y[i]))\n",
    "                    self.bias -= self.learning_rate * y[i]\n",
    "                    \n",
    "    def predict(self,X_test):\n",
    "        return np.sign(np.dot(X_test,self.weight)-self.bias)\n",
    "    "
   ]
  },
  {
   "cell_type": "code",
   "execution_count": 31,
   "metadata": {},
   "outputs": [
    {
     "name": "stdout",
     "output_type": "stream",
     "text": [
      "Test Result:\n",
      "================================================\n",
      "Accuracy Score : 76.86%\n",
      "_______________________________________________\n",
      "CLASSIFICATION REPORT (happy = -1 , sad = 1):\n",
      "              precision    recall  f1-score   support\n",
      "\n",
      "          -1       0.76      0.87      0.81       349\n",
      "           1       0.78      0.62      0.70       256\n",
      "\n",
      "    accuracy                           0.77       605\n",
      "   macro avg       0.77      0.75      0.75       605\n",
      "weighted avg       0.77      0.77      0.76       605\n",
      "\n",
      "_______________________________________________\n",
      "Confusion Matrix: \n",
      " AxesSubplot(0.22375,0.11;0.5775x0.77)\n",
      "\n"
     ]
    },
    {
     "data": {
      "image/png": "[encoded data removed]",
      "text/plain": [
       "<Figure size 640x480 with 1 Axes>"
      ]
     },
     "metadata": {},
     "output_type": "display_data"
    }
   ],
   "source": [
    "model = SVM()\n",
    "clf = model.fit(X_train,y_train)\n",
    "pred = model.predict(X_test)\n",
    "classifreport = classification_report(y_test, pred)\n",
    "mat = confusion_matrix(y_test, pred)\n",
    "heatmap = sns.heatmap(mat.T, square=True, annot=True, fmt='d', cbar=False,\n",
    "                      xticklabels=set(labels),\n",
    "                      yticklabels=set(labels))\n",
    "\n",
    "print(\"Test Result:\\n================================================\")\n",
    "print(\n",
    "    f\"Accuracy Score : {accuracy_score(y_test, pred) * 100:.2f}%\")\n",
    "print(\"_______________________________________________\")\n",
    "print(f\"CLASSIFICATION REPORT (happy = -1 , sad = 1):\\n{classifreport}\")\n",
    "print(\"_______________________________________________\")\n",
    "print(f\"Confusion Matrix: \\n {heatmap}\\n\")\n",
    "\n"
   ]
  },
  {
   "cell_type": "code",
   "execution_count": 30,
   "metadata": {},
   "outputs": [
    {
     "name": "stdout",
     "output_type": "stream",
     "text": [
      "Test Result:\n",
      "================================================\n",
      "Accuracy Score : 76.20%\n",
      "_______________________________________________\n",
      "CLASSIFICATION REPORT (happy = -1 , sad = 1):\n",
      "              precision    recall  f1-score   support\n",
      "\n",
      "          -1       0.78      0.82      0.80       349\n",
      "           1       0.73      0.69      0.71       256\n",
      "\n",
      "    accuracy                           0.76       605\n",
      "   macro avg       0.76      0.75      0.75       605\n",
      "weighted avg       0.76      0.76      0.76       605\n",
      "\n",
      "_______________________________________________\n",
      "Confusion Matrix: \n",
      " AxesSubplot(0.22375,0.11;0.5775x0.77)\n",
      "\n"
     ]
    },
    {
     "data": {
      "image/png": "[encoded data removed]",
      "text/plain": [
       "<Figure size 640x480 with 1 Axes>"
      ]
     },
     "metadata": {},
     "output_type": "display_data"
    }
   ],
   "source": [
    "model = SVC(kernel=\"linear\")\n",
    "clf = model.fit(X_train, y_train)\n",
    "pred = model.predict(X_test)\n",
    "classifreport = classification_report(y_test, pred)\n",
    "mat = confusion_matrix(y_test, pred)\n",
    "heatmap = sns.heatmap(mat.T, square=True, annot=True, fmt='d', cbar=False,\n",
    "                      xticklabels=set(labels),\n",
    "                      yticklabels=set(labels))\n",
    "\n",
    "print(\"Test Result:\\n================================================\")\n",
    "print(\n",
    "    f\"Accuracy Score : {accuracy_score(y_test, pred) * 100:.2f}%\")\n",
    "print(\"_______________________________________________\")\n",
    "print(f\"CLASSIFICATION REPORT (happy = -1 , sad = 1):\\n{classifreport}\")\n",
    "print(\"_______________________________________________\")\n",
    "print(f\"Confusion Matrix: \\n {heatmap}\\n\")\n"
   ]
  },
  {
   "cell_type": "code",
   "execution_count": null,
   "metadata": {},
   "outputs": [],
   "source": []
  }
 ],
 "metadata": {
  "kernelspec": {
   "display_name": "Python 3 (ipykernel)",
   "language": "python",
   "name": "python3"
  },
  "language_info": {
   "codemirror_mode": {
    "name": "ipython",
    "version": 3
   },
   "file_extension": ".py",
   "mimetype": "text/x-python",
   "name": "python",
   "nbconvert_exporter": "python",
   "pygments_lexer": "ipython3",
   "version": "3.9.13"
  }
 },
 "nbformat": 4,
 "nbformat_minor": 2
}
